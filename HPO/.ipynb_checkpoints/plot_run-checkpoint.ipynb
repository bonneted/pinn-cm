{
 "cells": [
  {
   "cell_type": "code",
   "execution_count": 1,
   "metadata": {},
   "outputs": [
    {
     "name": "stderr",
     "output_type": "stream",
     "text": [
      "Using backend: pytorch\n",
      "\n"
     ]
    }
   ],
   "source": [
    "import os\n",
    "import deepxde as dde\n",
    "import numpy as np\n",
    "import matplotlib.pyplot as plt\n",
    "from HPO_train import *\n",
    "\n",
    "lmbd = 1.0\n",
    "mu = 0.5\n",
    "Q = 4.0\n",
    "\n",
    "domain = np.array([[0.0, 1.0], [0.0, 1.0]])\n",
    "geom = dde.geometry.Rectangle([0, 0], [1, 1])"
   ]
  },
  {
   "cell_type": "code",
   "execution_count": 2,
   "metadata": {},
   "outputs": [
    {
     "name": "stdout",
     "output_type": "stream",
     "text": [
      "Using GPU: False\n"
     ]
    }
   ],
   "source": [
    "print(f\"Using GPU: {dde.backend.torch.cuda.is_available()}\")\n",
    "device = torch.device(\"cuda:0\" if torch.cuda.is_available() else \"cpu\")"
   ]
  },
  {
   "cell_type": "code",
   "execution_count": 3,
   "metadata": {},
   "outputs": [],
   "source": [
    "lmbd = 1.0\n",
    "mu = 0.5\n",
    "Q = 4.0\n",
    "\n",
    "domain = np.array([[0.0, 1.0], [0.0, 1.0]])\n",
    "geom = dde.geometry.Rectangle([0, 0], [1, 1])\n",
    "\n",
    "# plotting utilities\n",
    "\n",
    "def pcolor_plot(AX, X, Y, C, title,colormap=\"jet\",**kwargs):\n",
    "    ## plot the pcolor plot of the given data C on the given axis AX with the given title and optional colorbar limits cmin and cmax\n",
    "    if len(kwargs) == 0:\n",
    "        im = AX.pcolor(X, Y, C, cmap=colormap,shading='auto')\n",
    "    else:\n",
    "        cmin = kwargs[\"cmin\"]\n",
    "        cmax = kwargs[\"cmax\"]\n",
    "        im = AX.pcolor(X, Y, C, cmap=colormap, vmin=cmin, vmax=cmax,shading='auto')\n",
    "    AX.axis(\"equal\")\n",
    "    AX.axis(\"off\")\n",
    "    AX.set_title(title, fontsize=14)\n",
    "    return im\n",
    "\n",
    "def plot_field(domain,model,output_func=None,V_exact=None,plot_diff=False,n_points=10000,fields_name=None):\n",
    "\n",
    "    X = np.linspace(domain[0][0], domain[0][1], int(np.sqrt(n_points)))\n",
    "    Y = np.linspace(domain[1][0], domain[1][1], int(np.sqrt(n_points)))\n",
    "    Xgrid, Ygrid = np.meshgrid(X, Y)\n",
    "    Xinput = np.hstack((Xgrid.reshape(-1, 1), Ygrid.reshape(-1, 1)))\n",
    "\n",
    "    plotify = lambda x: x.reshape(Xgrid.shape)\n",
    "\n",
    "    if output_func is None:\n",
    "        V_nn = model.predict(Xinput)\n",
    "    else:\n",
    "        V_nn = model.predict(Xinput, operator=output_func)\n",
    "\n",
    "    V_nn = [plotify(V) for V in V_nn]\n",
    "\n",
    "    n_fields = len(V_nn) if type(V_nn) is list else 1\n",
    "    n_plot = 1\n",
    "\n",
    "    if fields_name is None:\n",
    "        fields_name = V_exact.__name__.replace('_exact','') if V_exact is not None else 'V'\n",
    "\n",
    "    coord = [\"_x\",\"_y\",\"_xy\"] if n_fields > 1 else [\"\"]\n",
    "    fields_name = [fields_name + coord[i] for i in range(n_fields)]\n",
    "\n",
    "    if V_exact is not None:\n",
    "        V_exact = V_exact(Xinput)\n",
    "        V_exact = [plotify(V) for V in V_exact]\n",
    "        n_plot = 3 if plot_diff else 2\n",
    "        \n",
    "    fig, ax = plt.subplots(n_fields, n_plot, figsize=(4*n_plot, 3*n_fields), dpi=200)\n",
    "\n",
    "    for i in range(n_fields):\n",
    "\n",
    "        if V_exact is not None:\n",
    "\n",
    "            cmax = max(V_nn[i].max(), V_exact[i].max())\n",
    "            cmin = min(V_nn[i].min(), V_exact[i].min())\n",
    "\n",
    "            im1 = pcolor_plot(ax[i][0], Xgrid, Ygrid, V_exact[i], f\"{fields_name[i]}*\",colormap=\"jet\", cmin=cmin, cmax=cmax)\n",
    "            im2 = pcolor_plot(ax[i][1], Xgrid, Ygrid, V_nn[i], f\"{fields_name[i]}_nn\",colormap=\"jet\", cmin=cmin, cmax=cmax)\n",
    "\n",
    "            fig.colorbar(im1, ax=ax[i][1])\n",
    "        else:\n",
    "            im1 = pcolor_plot(ax[i], Xgrid, Ygrid, V_nn[i], f\"{fields_name[i]}_nn\")\n",
    "            fig.colorbar(im1, ax=ax[i])\n",
    "\n",
    "        if plot_diff:\n",
    "            diff = V_nn[i] - V_exact[i]\n",
    "            abs_diff = np.abs(diff)\n",
    "            cmax = abs_diff.max() if diff.max() > 0 else 0\n",
    "            cmin = -abs_diff.max() if diff.min() < 0 else 0\n",
    "            im3 = pcolor_plot(ax[i][2], Xgrid, Ygrid,diff, f\"{fields_name[i]}_nn - {fields_name[i]}*\",colormap=\"jet\", cmin=cmin, cmax=cmax)\n",
    "            fig.colorbar(im3, ax=ax[i][2])\n",
    "            ax[i][2].text(1.075,0.5,f\"mean($\\mid${fields_name[i]}_nn - {fields_name[i]}*$\\mid$): {np.mean(abs_diff):.2e}\", fontsize=6,ha = \"center\",rotation = \"vertical\",rotation_mode = \"anchor\")\n",
    "\n",
    "    return fig"
   ]
  },
  {
   "cell_type": "code",
   "execution_count": 4,
   "metadata": {},
   "outputs": [],
   "source": [
    "import yaml\n",
    "import glob\n",
    "\n",
    "class dotdict(dict):\n",
    "    \"\"\"dot.notation access to dictionary attributes\"\"\"\n",
    "    __getattr__ = dict.get\n",
    "    __setattr__ = dict.__setitem__\n",
    "    __delattr__ = dict.__delitem__\n",
    "\n",
    "    \n",
    "def load_config(path):  \n",
    "    with open(path, 'r') as file:\n",
    "        config = yaml.load(file, Loader=yaml.FullLoader)\n",
    "        config.pop('wandb_version')\n",
    "        config.pop('_wandb')\n",
    "        for key, val in config.items():\n",
    "            config[key] = val[\"value\"]\n",
    "    return dotdict(config)\n",
    "\n",
    "def path_from_id(run_id):\n",
    "    config_path = os.path.join('wandb',f\"*-{run_id}\",\"files\")\n",
    "    return glob.glob(config_path)[0]"
   ]
  },
  {
   "cell_type": "code",
   "execution_count": 5,
   "metadata": {},
   "outputs": [
    {
     "name": "stdout",
     "output_type": "stream",
     "text": [
      "{'activation': 'tanh', 'bc_type': 'hard', 'iterations': [3000, None], 'learning_rate': [0.001, None], 'loss_type': 'pde', 'n_layers': 7, 'net_type': 'USnet', 'num_samples': 50, 'optimizer': ['adam', 'L-BFGS'], 'size_layers': 100, 'train_distribution': 'Hammersley'}\n",
      "Compiling model...\n",
      "'compile' took 0.000251 s\n",
      "\n"
     ]
    },
    {
     "ename": "KeyError",
     "evalue": "'step'",
     "output_type": "error",
     "traceback": [
      "\u001b[1;31m---------------------------------------------------------------------------\u001b[0m",
      "\u001b[1;31mKeyError\u001b[0m                                  Traceback (most recent call last)",
      "\u001b[1;32m~\\AppData\\Local\\Temp/ipykernel_13308/2240333330.py\u001b[0m in \u001b[0;36m<module>\u001b[1;34m\u001b[0m\n\u001b[0;32m     29\u001b[0m \u001b[0mmodel\u001b[0m \u001b[1;33m=\u001b[0m \u001b[0mdde\u001b[0m\u001b[1;33m.\u001b[0m\u001b[0mModel\u001b[0m\u001b[1;33m(\u001b[0m\u001b[0mdata\u001b[0m\u001b[1;33m,\u001b[0m\u001b[0mnet\u001b[0m\u001b[1;33m)\u001b[0m\u001b[1;33m\u001b[0m\u001b[1;33m\u001b[0m\u001b[0m\n\u001b[0;32m     30\u001b[0m \u001b[0mmodel\u001b[0m\u001b[1;33m.\u001b[0m\u001b[0mcompile\u001b[0m\u001b[1;33m(\u001b[0m\u001b[1;34m'adam'\u001b[0m\u001b[1;33m,\u001b[0m \u001b[0mlr\u001b[0m\u001b[1;33m=\u001b[0m\u001b[1;36m0.001\u001b[0m\u001b[1;33m)\u001b[0m\u001b[1;33m\u001b[0m\u001b[1;33m\u001b[0m\u001b[0m\n\u001b[1;32m---> 31\u001b[1;33m \u001b[0mmodel\u001b[0m\u001b[1;33m.\u001b[0m\u001b[0mrestore\u001b[0m\u001b[1;33m(\u001b[0m\u001b[0mmodel_path\u001b[0m\u001b[1;33m,\u001b[0m\u001b[0mdevice\u001b[0m\u001b[1;33m)\u001b[0m\u001b[1;33m\u001b[0m\u001b[1;33m\u001b[0m\u001b[0m\n\u001b[0m\u001b[0;32m     32\u001b[0m \u001b[1;33m\u001b[0m\u001b[0m\n\u001b[0;32m     33\u001b[0m \u001b[1;31m# model = dde.Model(data, net)\u001b[0m\u001b[1;33m\u001b[0m\u001b[1;33m\u001b[0m\u001b[0m\n",
      "\u001b[1;32mC:\\ProgramData\\Anaconda3\\lib\\site-packages\\deepxde\\model.py\u001b[0m in \u001b[0;36mrestore\u001b[1;34m(self, save_path, device, verbose)\u001b[0m\n\u001b[0;32m   1034\u001b[0m                 \u001b[0mcheckpoint\u001b[0m \u001b[1;33m=\u001b[0m \u001b[0mtorch\u001b[0m\u001b[1;33m.\u001b[0m\u001b[0mload\u001b[0m\u001b[1;33m(\u001b[0m\u001b[0msave_path\u001b[0m\u001b[1;33m,\u001b[0m \u001b[0mmap_location\u001b[0m\u001b[1;33m=\u001b[0m\u001b[0mdevice\u001b[0m\u001b[1;33m)\u001b[0m\u001b[1;33m\u001b[0m\u001b[1;33m\u001b[0m\u001b[0m\n\u001b[0;32m   1035\u001b[0m             \u001b[0mself\u001b[0m\u001b[1;33m.\u001b[0m\u001b[0mnet\u001b[0m\u001b[1;33m.\u001b[0m\u001b[0mload_state_dict\u001b[0m\u001b[1;33m(\u001b[0m\u001b[0mcheckpoint\u001b[0m\u001b[1;33m[\u001b[0m\u001b[1;34m\"model_state_dict\"\u001b[0m\u001b[1;33m]\u001b[0m\u001b[1;33m)\u001b[0m\u001b[1;33m\u001b[0m\u001b[1;33m\u001b[0m\u001b[0m\n\u001b[1;32m-> 1036\u001b[1;33m             \u001b[0mself\u001b[0m\u001b[1;33m.\u001b[0m\u001b[0mopt\u001b[0m\u001b[1;33m.\u001b[0m\u001b[0mload_state_dict\u001b[0m\u001b[1;33m(\u001b[0m\u001b[0mcheckpoint\u001b[0m\u001b[1;33m[\u001b[0m\u001b[1;34m\"optimizer_state_dict\"\u001b[0m\u001b[1;33m]\u001b[0m\u001b[1;33m)\u001b[0m\u001b[1;33m\u001b[0m\u001b[1;33m\u001b[0m\u001b[0m\n\u001b[0m\u001b[0;32m   1037\u001b[0m         \u001b[1;32melif\u001b[0m \u001b[0mbackend_name\u001b[0m \u001b[1;33m==\u001b[0m \u001b[1;34m\"paddle\"\u001b[0m\u001b[1;33m:\u001b[0m\u001b[1;33m\u001b[0m\u001b[1;33m\u001b[0m\u001b[0m\n\u001b[0;32m   1038\u001b[0m             \u001b[0mcheckpoint\u001b[0m \u001b[1;33m=\u001b[0m \u001b[0mpaddle\u001b[0m\u001b[1;33m.\u001b[0m\u001b[0mload\u001b[0m\u001b[1;33m(\u001b[0m\u001b[0msave_path\u001b[0m\u001b[1;33m)\u001b[0m\u001b[1;33m\u001b[0m\u001b[1;33m\u001b[0m\u001b[0m\n",
      "\u001b[1;32mC:\\ProgramData\\Anaconda3\\lib\\site-packages\\torch\\optim\\optimizer.py\u001b[0m in \u001b[0;36mload_state_dict\u001b[1;34m(self, state_dict)\u001b[0m\n\u001b[0;32m    212\u001b[0m         param_groups = [\n\u001b[0;32m    213\u001b[0m             update_group(g, ng) for g, ng in zip(groups, saved_groups)]\n\u001b[1;32m--> 214\u001b[1;33m         \u001b[0mself\u001b[0m\u001b[1;33m.\u001b[0m\u001b[0m__setstate__\u001b[0m\u001b[1;33m(\u001b[0m\u001b[1;33m{\u001b[0m\u001b[1;34m'state'\u001b[0m\u001b[1;33m:\u001b[0m \u001b[0mstate\u001b[0m\u001b[1;33m,\u001b[0m \u001b[1;34m'param_groups'\u001b[0m\u001b[1;33m:\u001b[0m \u001b[0mparam_groups\u001b[0m\u001b[1;33m}\u001b[0m\u001b[1;33m)\u001b[0m\u001b[1;33m\u001b[0m\u001b[1;33m\u001b[0m\u001b[0m\n\u001b[0m\u001b[0;32m    215\u001b[0m \u001b[1;33m\u001b[0m\u001b[0m\n\u001b[0;32m    216\u001b[0m     \u001b[1;32mdef\u001b[0m \u001b[0mzero_grad\u001b[0m\u001b[1;33m(\u001b[0m\u001b[0mself\u001b[0m\u001b[1;33m,\u001b[0m \u001b[0mset_to_none\u001b[0m\u001b[1;33m:\u001b[0m \u001b[0mbool\u001b[0m \u001b[1;33m=\u001b[0m \u001b[1;32mFalse\u001b[0m\u001b[1;33m)\u001b[0m\u001b[1;33m:\u001b[0m\u001b[1;33m\u001b[0m\u001b[1;33m\u001b[0m\u001b[0m\n",
      "\u001b[1;32mC:\\ProgramData\\Anaconda3\\lib\\site-packages\\torch\\optim\\adam.py\u001b[0m in \u001b[0;36m__setstate__\u001b[1;34m(self, state)\u001b[0m\n\u001b[0;32m     98\u001b[0m             \u001b[0mgroup\u001b[0m\u001b[1;33m.\u001b[0m\u001b[0msetdefault\u001b[0m\u001b[1;33m(\u001b[0m\u001b[1;34m'capturable'\u001b[0m\u001b[1;33m,\u001b[0m \u001b[1;32mFalse\u001b[0m\u001b[1;33m)\u001b[0m\u001b[1;33m\u001b[0m\u001b[1;33m\u001b[0m\u001b[0m\n\u001b[0;32m     99\u001b[0m         \u001b[0mstate_values\u001b[0m \u001b[1;33m=\u001b[0m \u001b[0mlist\u001b[0m\u001b[1;33m(\u001b[0m\u001b[0mself\u001b[0m\u001b[1;33m.\u001b[0m\u001b[0mstate\u001b[0m\u001b[1;33m.\u001b[0m\u001b[0mvalues\u001b[0m\u001b[1;33m(\u001b[0m\u001b[1;33m)\u001b[0m\u001b[1;33m)\u001b[0m\u001b[1;33m\u001b[0m\u001b[1;33m\u001b[0m\u001b[0m\n\u001b[1;32m--> 100\u001b[1;33m         \u001b[0mstep_is_tensor\u001b[0m \u001b[1;33m=\u001b[0m \u001b[1;33m(\u001b[0m\u001b[0mlen\u001b[0m\u001b[1;33m(\u001b[0m\u001b[0mstate_values\u001b[0m\u001b[1;33m)\u001b[0m \u001b[1;33m!=\u001b[0m \u001b[1;36m0\u001b[0m\u001b[1;33m)\u001b[0m \u001b[1;32mand\u001b[0m \u001b[0mtorch\u001b[0m\u001b[1;33m.\u001b[0m\u001b[0mis_tensor\u001b[0m\u001b[1;33m(\u001b[0m\u001b[0mstate_values\u001b[0m\u001b[1;33m[\u001b[0m\u001b[1;36m0\u001b[0m\u001b[1;33m]\u001b[0m\u001b[1;33m[\u001b[0m\u001b[1;34m'step'\u001b[0m\u001b[1;33m]\u001b[0m\u001b[1;33m)\u001b[0m\u001b[1;33m\u001b[0m\u001b[1;33m\u001b[0m\u001b[0m\n\u001b[0m\u001b[0;32m    101\u001b[0m         \u001b[1;32mif\u001b[0m \u001b[1;32mnot\u001b[0m \u001b[0mstep_is_tensor\u001b[0m\u001b[1;33m:\u001b[0m\u001b[1;33m\u001b[0m\u001b[1;33m\u001b[0m\u001b[0m\n\u001b[0;32m    102\u001b[0m             \u001b[1;32mfor\u001b[0m \u001b[0ms\u001b[0m \u001b[1;32min\u001b[0m \u001b[0mstate_values\u001b[0m\u001b[1;33m:\u001b[0m\u001b[1;33m\u001b[0m\u001b[1;33m\u001b[0m\u001b[0m\n",
      "\u001b[1;31mKeyError\u001b[0m: 'step'"
     ]
    }
   ],
   "source": [
    "run_id = \"mmf62c2a\"\n",
    "\n",
    "config_path = os.path.join(path_from_id(run_id),\"config.yaml\")\n",
    "model_path = os.path.join(path_from_id(run_id),\"model-13000.pt\")\n",
    "config = load_config(config_path)\n",
    "\n",
    "print(config)\n",
    "[net_type,n_layers,size_layers,activation] = config.net_type, config.n_layers, config.size_layers, config.activation\n",
    "[loss_type,num_sample,train_distribution,bc_type] = config.loss_type, config.num_samples, config.train_distribution, config.bc_type\n",
    "\n",
    "net_exact = Unet_exact if net_type == 'Unet' else USnet_exact\n",
    "size_output = 2 if net_type == 'Unet' else 5\n",
    "num_domain = num_sample**2\n",
    "num_boundary = num_sample\n",
    "\n",
    "net = dde.nn.FNN([2] + [size_layers]*n_layers + [size_output], activation, 'Glorot uniform')\n",
    "net, total_loss, bc, pde_net, energy_net, mat_net = loss_and_bc_setup(geom,net, net_type, bc_type, loss_type)\n",
    "\n",
    "data = dde.data.PDE(\n",
    "    geom,\n",
    "    total_loss,\n",
    "    bc,\n",
    "    num_domain=num_domain,\n",
    "    num_boundary=num_boundary,\n",
    "    num_test= 100**2,\n",
    "    train_distribution = train_distribution,\n",
    "    solution=net_exact,\n",
    ")\n",
    "model = dde.Model(data,net)\n",
    "model.compile('adam', lr=0.001)\n",
    "model.restore(model_path,device)\n",
    "\n",
    "# model = dde.Model(data, net)\n",
    "\n",
    "# Calculate the final solution\n",
    "\n",
    "U_output = lambda x, ouput: (ouput[:,0], ouput[:,1]) \n",
    "S_output = lambda x, ouput: S_nn(E_nn(x,ouput)) if config.net_type == 'Unet' else (ouput[:,2], ouput[:,3], ouput[:,4]) \n",
    "\n",
    "U_field = plot_field(domain,model,output_func=U_output,V_exact=lambda x: (U_exact(x)[:,0], U_exact(x)[:,1]),plot_diff=True,fields_name=\"U\")\n",
    "Eps_field = plot_field(domain,model,output_func=E_nn,V_exact=E_exact,plot_diff=True)\n",
    "Sig_field =plot_field(domain,model,output_func=S_output,V_exact=S_exact,plot_diff=True)"
   ]
  },
  {
   "cell_type": "code",
   "execution_count": 15,
   "metadata": {},
   "outputs": [
    {
     "ename": "AttributeError",
     "evalue": "module 'wandb' has no attribute 'init'",
     "output_type": "error",
     "traceback": [
      "\u001b[1;31m---------------------------------------------------------------------------\u001b[0m",
      "\u001b[1;31mAttributeError\u001b[0m                            Traceback (most recent call last)",
      "\u001b[1;32m~\\AppData\\Local\\Temp/ipykernel_32272/2435078090.py\u001b[0m in \u001b[0;36m<module>\u001b[1;34m\u001b[0m\n\u001b[1;32m----> 1\u001b[1;33m \u001b[0mwandb\u001b[0m\u001b[1;33m.\u001b[0m\u001b[0minit\u001b[0m\u001b[1;33m(\u001b[0m\u001b[1;33m)\u001b[0m\u001b[1;33m\u001b[0m\u001b[1;33m\u001b[0m\u001b[0m\n\u001b[0m",
      "\u001b[1;31mAttributeError\u001b[0m: module 'wandb' has no attribute 'init'"
     ]
    }
   ],
   "source": [
    "wandb."
   ]
  },
  {
   "cell_type": "code",
   "execution_count": null,
   "metadata": {},
   "outputs": [],
   "source": []
  }
 ],
 "metadata": {
  "kernelspec": {
   "display_name": "Python 3 (ipykernel)",
   "language": "python",
   "name": "python3"
  },
  "language_info": {
   "codemirror_mode": {
    "name": "ipython",
    "version": 3
   },
   "file_extension": ".py",
   "mimetype": "text/x-python",
   "name": "python",
   "nbconvert_exporter": "python",
   "pygments_lexer": "ipython3",
   "version": "3.9.7"
  }
 },
 "nbformat": 4,
 "nbformat_minor": 4
}
