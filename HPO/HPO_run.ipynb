{
 "cells": [
  {
   "cell_type": "code",
   "execution_count": 16,
   "metadata": {},
   "outputs": [],
   "source": [
    "import wandb\n",
    "import subprocess\n",
    "import HPO_train"
   ]
  },
  {
   "cell_type": "code",
   "execution_count": 20,
   "metadata": {},
   "outputs": [
    {
     "name": "stdout",
     "output_type": "stream",
     "text": [
      "Create sweep with ID: bmoiglf6\n",
      "Sweep URL: https://wandb.ai/damien-bonnet/test_parallel/sweeps/bmoiglf6\n"
     ]
    }
   ],
   "source": [
    "sweep_dict = {\n",
    "    'net_type': {'values': ['Unet','USnet']},\n",
    "    'n_layers': { 'max': 10,'min': 2},\n",
    "    'size_layers': {'values': [50,75,100]},\n",
    "    'activation': {'values': ['tanh','sigmoid']},\n",
    "    'loss_type': {'values':  ['pde']},\n",
    "    'num_samples': {'values': [25,50,75,100]},\n",
    "    'bc_type': {'value': 'hard'},\n",
    "    'train_distribution': {'value': 'Hammersley'},\n",
    "    'optimizer': {'value': [\"adam\"]},\n",
    "    'learning_rate': {'value': [1e-3]},\n",
    "    'iterations': {'value': [300]}\n",
    "}\n",
    "\n",
    "sweep_config = {\n",
    "    'method': 'bayes',\n",
    "    'parameters': sweep_dict,\n",
    "    'metric': {\n",
    "        'name': 'accuracy_metric',\n",
    "        'goal': 'minimize'   \n",
    "    },\n",
    "    'name': 'sweep-1',\n",
    "    'program': 'HPO_train.py'\n",
    "    }\n",
    "\n",
    "project_name = ['test_parallel','HPO-PINN-CM'][1]\n",
    "sweep_id = wandb.sweep(sweep_config, project=project_name)"
   ]
  },
  {
   "cell_type": "code",
   "execution_count": 22,
   "metadata": {},
   "outputs": [
    {
     "name": "stderr",
     "output_type": "stream",
     "text": [
      "\u001b[34m\u001b[1mwandb\u001b[0m: Agent Starting Run: p4yczq2m with config:\n",
      "\u001b[34m\u001b[1mwandb\u001b[0m: \tactivation: sigmoid\n",
      "\u001b[34m\u001b[1mwandb\u001b[0m: \tbc_type: hard\n",
      "\u001b[34m\u001b[1mwandb\u001b[0m: \titerations: [300]\n",
      "\u001b[34m\u001b[1mwandb\u001b[0m: \tlearning_rate: [0.001]\n",
      "\u001b[34m\u001b[1mwandb\u001b[0m: \tloss_type: pde\n",
      "\u001b[34m\u001b[1mwandb\u001b[0m: \tn_layers: 5\n",
      "\u001b[34m\u001b[1mwandb\u001b[0m: \tnet_type: Unet\n",
      "\u001b[34m\u001b[1mwandb\u001b[0m: \tnum_samples: 100\n",
      "\u001b[34m\u001b[1mwandb\u001b[0m: \toptimizer: ['adam']\n",
      "\u001b[34m\u001b[1mwandb\u001b[0m: \tsize_layers: 75\n",
      "\u001b[34m\u001b[1mwandb\u001b[0m: \ttrain_distribution: Hammersley\n",
      "Failed to detect the name of this notebook, you can set it manually with the WANDB_NOTEBOOK_NAME environment variable to enable code saving.\n",
      "\u001b[34m\u001b[1mwandb\u001b[0m: \u001b[33mWARNING\u001b[0m Ignored wandb.init() arg project when running a sweep.\n"
     ]
    },
    {
     "data": {
      "text/html": [
       "wandb version 0.14.0 is available!  To upgrade, please run:\n",
       " $ pip install wandb --upgrade"
      ],
      "text/plain": [
       "<IPython.core.display.HTML object>"
      ]
     },
     "metadata": {},
     "output_type": "display_data"
    },
    {
     "data": {
      "text/html": [
       "Tracking run with wandb version 0.13.11"
      ],
      "text/plain": [
       "<IPython.core.display.HTML object>"
      ]
     },
     "metadata": {},
     "output_type": "display_data"
    },
    {
     "data": {
      "text/html": [
       "Run data is saved locally in <code>c:\\Users\\u0150568\\OneDrive - KU Leuven\\Code\\pinn-cm\\HPO\\wandb\\run-20230328_173245-p4yczq2m</code>"
      ],
      "text/plain": [
       "<IPython.core.display.HTML object>"
      ]
     },
     "metadata": {},
     "output_type": "display_data"
    },
    {
     "data": {
      "text/html": [
       "Syncing run <strong><a href='https://wandb.ai/damien-bonnet/test_parallel/runs/p4yczq2m' target=\"_blank\">earnest-sweep-2</a></strong> to <a href='https://wandb.ai/damien-bonnet/test_parallel' target=\"_blank\">Weights & Biases</a> (<a href='https://wandb.me/run' target=\"_blank\">docs</a>)<br/>Sweep page: <a href='https://wandb.ai/damien-bonnet/test_parallel/sweeps/bmoiglf6' target=\"_blank\">https://wandb.ai/damien-bonnet/test_parallel/sweeps/bmoiglf6</a>"
      ],
      "text/plain": [
       "<IPython.core.display.HTML object>"
      ]
     },
     "metadata": {},
     "output_type": "display_data"
    },
    {
     "data": {
      "text/html": [
       " View project at <a href='https://wandb.ai/damien-bonnet/test_parallel' target=\"_blank\">https://wandb.ai/damien-bonnet/test_parallel</a>"
      ],
      "text/plain": [
       "<IPython.core.display.HTML object>"
      ]
     },
     "metadata": {},
     "output_type": "display_data"
    },
    {
     "data": {
      "text/html": [
       " View sweep at <a href='https://wandb.ai/damien-bonnet/test_parallel/sweeps/bmoiglf6' target=\"_blank\">https://wandb.ai/damien-bonnet/test_parallel/sweeps/bmoiglf6</a>"
      ],
      "text/plain": [
       "<IPython.core.display.HTML object>"
      ]
     },
     "metadata": {},
     "output_type": "display_data"
    },
    {
     "data": {
      "text/html": [
       " View run at <a href='https://wandb.ai/damien-bonnet/test_parallel/runs/p4yczq2m' target=\"_blank\">https://wandb.ai/damien-bonnet/test_parallel/runs/p4yczq2m</a>"
      ],
      "text/plain": [
       "<IPython.core.display.HTML object>"
      ]
     },
     "metadata": {},
     "output_type": "display_data"
    },
    {
     "name": "stdout",
     "output_type": "stream",
     "text": [
      "Compiling model...\n",
      "'compile' took 0.001309 s\n",
      "\n",
      "Training model...\n",
      "\n"
     ]
    },
    {
     "name": "stderr",
     "output_type": "stream",
     "text": [
      "C:\\Users\\u0150568\\AppData\\Roaming\\Python\\Python38\\site-packages\\torch\\nn\\functional.py:1806: UserWarning: nn.functional.sigmoid is deprecated. Use torch.sigmoid instead.\n",
      "  warnings.warn(\"nn.functional.sigmoid is deprecated. Use torch.sigmoid instead.\")\n"
     ]
    },
    {
     "name": "stdout",
     "output_type": "stream",
     "text": [
      "Step      Train loss                                  Test loss                                   Test metric   \n",
      "0         [1.79e+03, 2.55e+02, 3.17e-18, 1.98e+03]    [1.79e+03, 2.55e+02, 3.17e-18, 1.98e+03]    [1.09e+00]    \n",
      "200       [1.79e+03, 3.37e+02, 3.51e-21, 8.29e+01]    [1.79e+03, 3.37e+02, 3.51e-21, 8.29e+01]    [1.52e+00]    \n",
      "300       [1.79e+03, 3.48e+02, 7.06e-21, 5.07e+01]    [1.79e+03, 3.48e+02, 7.06e-21, 5.07e+01]    [1.65e+00]    \n",
      "\n",
      "Best model at step 300:\n",
      "  train loss: 2.19e+03\n",
      "  test loss: 2.19e+03\n",
      "  test metric: [1.65e+00]\n",
      "\n",
      "Epoch 300: saving model to c:\\Users\\u0150568\\OneDrive - KU Leuven\\Code\\pinn-cm\\HPO\\wandb\\run-20230328_173245-p4yczq2m\\files\\model-300.pt ...\n",
      "\n",
      "'train' took 478.260716 s\n",
      "\n"
     ]
    },
    {
     "data": {
      "text/html": [
       "Waiting for W&B process to finish... <strong style=\"color:green\">(success).</strong>"
      ],
      "text/plain": [
       "<IPython.core.display.HTML object>"
      ]
     },
     "metadata": {},
     "output_type": "display_data"
    },
    {
     "data": {
      "text/html": [
       "<style>\n",
       "    table.wandb td:nth-child(1) { padding: 0 10px; text-align: left ; width: auto;} td:nth-child(2) {text-align: left ; width: 100%}\n",
       "    .wandb-row { display: flex; flex-direction: row; flex-wrap: wrap; justify-content: flex-start; width: 100% }\n",
       "    .wandb-col { display: flex; flex-direction: column; flex-basis: 100%; flex: 1; padding: 10px; }\n",
       "    </style>\n",
       "<div class=\"wandb-row\"><div class=\"wandb-col\"><h3>Run history:</h3><br/><table class=\"wandb\"><tr><td>accuracy_metric</td><td>▁▆█</td></tr><tr><td>loss_test</td><td>█▁▁</td></tr><tr><td>loss_train</td><td>█▁▁</td></tr><tr><td>steps</td><td>▁▆█</td></tr></table><br/></div><div class=\"wandb-col\"><h3>Run summary:</h3><br/><table class=\"wandb\"><tr><td>accuracy_metric</td><td>1.65108</td></tr><tr><td>loss_test</td><td>2192.28394</td></tr><tr><td>loss_train</td><td>2193.57495</td></tr><tr><td>steps</td><td>300</td></tr></table><br/></div></div>"
      ],
      "text/plain": [
       "<IPython.core.display.HTML object>"
      ]
     },
     "metadata": {},
     "output_type": "display_data"
    },
    {
     "data": {
      "text/html": [
       " View run <strong style=\"color:#cdcd00\">earnest-sweep-2</strong> at: <a href='https://wandb.ai/damien-bonnet/test_parallel/runs/p4yczq2m' target=\"_blank\">https://wandb.ai/damien-bonnet/test_parallel/runs/p4yczq2m</a><br/>Synced 5 W&B file(s), 0 media file(s), 0 artifact file(s) and 1 other file(s)"
      ],
      "text/plain": [
       "<IPython.core.display.HTML object>"
      ]
     },
     "metadata": {},
     "output_type": "display_data"
    },
    {
     "data": {
      "text/html": [
       "Find logs at: <code>.\\wandb\\run-20230328_173245-p4yczq2m\\logs</code>"
      ],
      "text/plain": [
       "<IPython.core.display.HTML object>"
      ]
     },
     "metadata": {},
     "output_type": "display_data"
    }
   ],
   "source": [
    "# from importlib import reload\n",
    "# reload(HPO_train)\n",
    "\n",
    "wandb_train = HPO_train.wandb_train\n",
    "sweep_id = \"hsnp1x74\"\n",
    "count = 1\n",
    "\n",
    "wandb.agent(sweep_id, wandb_train, count=count)"
   ]
  },
  {
   "cell_type": "code",
   "execution_count": 90,
   "metadata": {},
   "outputs": [
    {
     "name": "stdout",
     "output_type": "stream",
     "text": [
      "wandb agent damien-bonnet/HPO-PINN-CM/hsnp1x74\n"
     ]
    }
   ],
   "source": [
    "from subprocess import Popen\n",
    "import os \n",
    "\n",
    "import time\n",
    "\n",
    "sweep_id = \"hsnp1x74\"\n",
    "\n",
    "count = 5\n",
    "nb_parallel = 5\n",
    "\n",
    "def sleep_a_bit(wait_time):\n",
    "    time.wait(wait_time)\n",
    "    print(f\"Wait {wait_time} seconds\")\n",
    "\n",
    "cmd_repo = \"cd /d C:\\\\Users\\\\u0150568\\\\PhD\\\\code\\\\pinn-cm\\\\HPO\"\n",
    "cmd_conda = \"call C:\\\\ProgramData\\\\Anaconda3\\\\Scripts\\\\activate.bat C:\\\\Users\\\\u0150568\\\\.conda\\\\envs\\\\torch-gpu\"\n",
    "# cmd_torch_gpu = \"conda activate torch-gpu\"\n",
    "cmd_test = f\"echo run {count} >> test.txt\"\n",
    "\n",
    "cmd_agent = f\"wandb agent damien-bonnet/HPO-PINN-CM/{sweep_id}\"\n",
    "cmd_test = \"pip -V\"\n",
    "list_cmd = [cmd_conda,cmd_torch_gpu,cmd_repo,cmd_test]\n",
    "print(cmd_agent)"
   ]
  },
  {
   "cell_type": "code",
   "execution_count": 91,
   "metadata": {},
   "outputs": [],
   "source": [
    "list_cmd = [cmd_repo,cmd_conda,cmd_test]#cmd_agent]\n",
    "\n",
    "for cmd in list_cmd:\n",
    "    os.system(cmd)"
   ]
  },
  {
   "cell_type": "code",
   "execution_count": null,
   "metadata": {},
   "outputs": [],
   "source": [
    "# list_cmd = [\"notepad\"]\n",
    "\n",
    "cmd_repo = \"cd /d C:\\\\Users\\\\u0150568\\\\PhD\\\\code\\\\pinn-cm\\\\HPO\"\n",
    "cmd_conda = \"call C:\\\\ProgramData\\\\Anaconda3\\\\Scripts\\\\activate.bat C:\\\\Users\\\\u0150568\\\\.conda\\\\envs\\\\torch-gpu\"\n",
    "# cmd_torch_gpu = \"conda activate torch-gpu\"\n",
    "cmd_test = f\"echo run {count} >> test.txt\"\n",
    "\n",
    "cmd_agent = f\"wandb agent damien-bonnet/HPO-PINN-CM/{sweep_id}\"\n",
    "cmd_test = \"pip -V\"\n",
    "list_cmd = [cmd_repo,cmd_conda,cmd_test]#cmd_agent]\n",
    "\n",
    "# with mp.Pool(processes=nb_parallel) as p:\n",
    "#     start = time.time()\n",
    "#     p.map(sleep_a_bit,[1]*nb_parallel)\n",
    "    \n",
    "#     print(f\"Process took {time.time()-start}\")\n",
    "\n",
    "for i in range(1):\n",
    "    proc = Popen(list_cmd, shell=True,\n",
    "             stdin=None, stdout=None, stderr=None, close_fds=False)\n",
    "# subprocess.run(list_cmd,shell = True)"
   ]
  },
  {
   "cell_type": "code",
   "execution_count": null,
   "metadata": {},
   "outputs": [],
   "source": [
    "    device = torch.device(\"cuda:0\" if torch.cuda.is_available() else \"cpu\")\n",
    "    print(f\"Using GPU: {torch.cuda.is_available()}\")\n",
    "\n",
    "    lmbd = 1.0\n",
    "    mu = 0.5\n",
    "    Q = 4.0\n",
    "\n",
    "    domain = np.array([[0.0, 1.0], [0.0, 1.0]])\n",
    "    geom = dde.geometry.Rectangle([0, 0], [1, 1])\n",
    "    dde.optimizers.config.set_LBFGS_options(maxiter=10000)\n",
    "    \n",
    "\n",
    "    sweep_id = \"8kv2uy1e\"\n",
    "\n",
    "    parser = argparse.ArgumentParser()\n",
    "    parser.add_argument(\"--sweep_id\", type=str, default=sweep_id)\n",
    "    parser.add_argument(\"--count\", type=int, default=10)\n",
    "    args = parser.parse_args()\n",
    "\n",
    "    sweep_id = args.sweep_id\n",
    "    count = args.count\n",
    "    print(f\"Launching {count} run(s) on sweep with sweep_id = {sweep_id}\")\n",
    "    wandb.agent(sweep_id=sweep_id, project=\"HPO-PINN\", function=HPO_PINN, count=count)"
   ]
  },
  {
   "cell_type": "code",
   "execution_count": null,
   "metadata": {},
   "outputs": [],
   "source": []
  },
  {
   "cell_type": "code",
   "execution_count": 8,
   "metadata": {},
   "outputs": [
    {
     "name": "stdout",
     "output_type": "stream",
     "text": [
      "run_agent.bat hsnp1x74 5\n"
     ]
    }
   ],
   "source": [
    "import subprocess \n",
    "\n",
    "sweep_id = \"hsnp1x74\"\n",
    "count = 5\n",
    "nb_parallel = 20\n",
    "\n",
    "print(f\"run_agent.bat {sweep_id} {count}\")"
   ]
  },
  {
   "cell_type": "code",
   "execution_count": 9,
   "metadata": {},
   "outputs": [],
   "source": [
    "for i in range(nb_parallel):\n",
    "#     p = subprocess.Popen(f\"test.bat\",shell=True, cwd=r\"C:\\Users\\u0150568\\PhD\\code\\pinn-cm\\HPO\")#,creationflags=subprocess.CREATE_NEW_CONSOLE)    \n",
    "    p = subprocess.Popen(f\"run_agent.bat {sweep_id} {count}\",shell=True, cwd=r\"C:\\Users\\u0150568\\PhD\\code\\pinn-cm\\HPO\",creationflags=subprocess.CREATE_NEW_CONSOLE)"
   ]
  },
  {
   "cell_type": "code",
   "execution_count": null,
   "metadata": {},
   "outputs": [],
   "source": [
    "C:\\ProgramData\\Anaconda3\\Scripts\\activate.bat C:\\Users\\u0150568\\.conda\\envs\\torch-gpu\n",
    "C:\\ProgramData\\Anaconda3\\Scripts\\activate.bat C:\\ProgramData\\Anaconda3\n",
    "        \n",
    "run_agent.bat hsnp1x74 10"
   ]
  }
 ],
 "metadata": {
  "kernelspec": {
   "display_name": "Python 3",
   "language": "python",
   "name": "python3"
  },
  "language_info": {
   "codemirror_mode": {
    "name": "ipython",
    "version": 3
   },
   "file_extension": ".py",
   "mimetype": "text/x-python",
   "name": "python",
   "nbconvert_exporter": "python",
   "pygments_lexer": "ipython3",
   "version": "3.8.1"
  }
 },
 "nbformat": 4,
 "nbformat_minor": 4
}
