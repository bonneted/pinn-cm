{
 "cells": [
  {
   "cell_type": "code",
   "execution_count": 7,
   "metadata": {},
   "outputs": [
    {
     "name": "stdout",
     "output_type": "stream",
     "text": [
      "Using GPU: False\n"
     ]
    },
    {
     "data": {
      "text/plain": [
       "<module 'BVP_function' from 'c:\\\\Users\\\\u0150568\\\\OneDrive - KU Leuven\\\\Code\\\\public github\\\\pinn-cm\\\\inverse\\\\BVP_function.py'>"
      ]
     },
     "execution_count": 7,
     "metadata": {},
     "output_type": "execute_result"
    }
   ],
   "source": [
    "import torch\n",
    "import matplotlib.pyplot as plt\n",
    "import BVP_function as bvp\n",
    "import numpy as np\n",
    "import deepxde as dde\n",
    "\n",
    "import seaborn as sns\n",
    "sns.set_style(\"whitegrid\") # better looking plots\n",
    "\n",
    "print(\"Using GPU:\", torch.cuda.is_available())\n",
    "device = torch.device(\"cuda:0\" if torch.cuda.is_available() else \"cpu\")\n",
    "if torch.cuda.is_available():\n",
    "    torch.set_default_tensor_type(torch.cuda.FloatTensor)\n",
    "\n",
    "from importlib import reload\n",
    "reload(bvp)"
   ]
  },
  {
   "cell_type": "code",
   "execution_count": 8,
   "metadata": {},
   "outputs": [
    {
     "ename": "RuntimeError",
     "evalue": "Can't call numpy() on Tensor that requires grad. Use tensor.detach().numpy() instead.",
     "output_type": "error",
     "traceback": [
      "\u001b[1;31m---------------------------------------------------------------------------\u001b[0m",
      "\u001b[1;31mRuntimeError\u001b[0m                              Traceback (most recent call last)",
      "\u001b[1;32mc:\\Users\\u0150568\\OneDrive - KU Leuven\\Code\\public github\\pinn-cm\\inverse\\elasticity_identification.ipynb Cell 2\u001b[0m in \u001b[0;36m<module>\u001b[1;34m\u001b[0m\n\u001b[0;32m     <a href='vscode-notebook-cell:/c%3A/Users/u0150568/OneDrive%20-%20KU%20Leuven/Code/public%20github/pinn-cm/inverse/elasticity_identification.ipynb#W1sZmlsZQ%3D%3D?line=32'>33</a>\u001b[0m config \u001b[39m=\u001b[39m {\u001b[39m'\u001b[39m\u001b[39mnet_type\u001b[39m\u001b[39m'\u001b[39m:net_type,\u001b[39m'\u001b[39m\u001b[39mn_layers\u001b[39m\u001b[39m'\u001b[39m:n_layers,\u001b[39m'\u001b[39m\u001b[39msize_layers\u001b[39m\u001b[39m'\u001b[39m:size_layers,\u001b[39m'\u001b[39m\u001b[39mactivation\u001b[39m\u001b[39m'\u001b[39m:activation,\n\u001b[0;32m     <a href='vscode-notebook-cell:/c%3A/Users/u0150568/OneDrive%20-%20KU%20Leuven/Code/public%20github/pinn-cm/inverse/elasticity_identification.ipynb#W1sZmlsZQ%3D%3D?line=33'>34</a>\u001b[0m         \u001b[39m'\u001b[39m\u001b[39mloss_type\u001b[39m\u001b[39m'\u001b[39m:loss_type,\u001b[39m'\u001b[39m\u001b[39mnum_domain\u001b[39m\u001b[39m'\u001b[39m:num_domain,\u001b[39m'\u001b[39m\u001b[39mtrain_distribution\u001b[39m\u001b[39m'\u001b[39m:train_distribution,\n\u001b[0;32m     <a href='vscode-notebook-cell:/c%3A/Users/u0150568/OneDrive%20-%20KU%20Leuven/Code/public%20github/pinn-cm/inverse/elasticity_identification.ipynb#W1sZmlsZQ%3D%3D?line=34'>35</a>\u001b[0m         \u001b[39m'\u001b[39m\u001b[39mbc_type\u001b[39m\u001b[39m'\u001b[39m:bc_type,\u001b[39m'\u001b[39m\u001b[39mnum_boundary\u001b[39m\u001b[39m'\u001b[39m:num_boundary,\n\u001b[0;32m     <a href='vscode-notebook-cell:/c%3A/Users/u0150568/OneDrive%20-%20KU%20Leuven/Code/public%20github/pinn-cm/inverse/elasticity_identification.ipynb#W1sZmlsZQ%3D%3D?line=35'>36</a>\u001b[0m         \u001b[39m'\u001b[39m\u001b[39moptimizers\u001b[39m\u001b[39m'\u001b[39m:optimizers,\u001b[39m'\u001b[39m\u001b[39mlearning_rates\u001b[39m\u001b[39m'\u001b[39m:learning_rates,\u001b[39m'\u001b[39m\u001b[39miterations\u001b[39m\u001b[39m'\u001b[39m:iterations}  \n\u001b[0;32m     <a href='vscode-notebook-cell:/c%3A/Users/u0150568/OneDrive%20-%20KU%20Leuven/Code/public%20github/pinn-cm/inverse/elasticity_identification.ipynb#W1sZmlsZQ%3D%3D?line=37'>38</a>\u001b[0m net_exact \u001b[39m=\u001b[39m bvp\u001b[39m.\u001b[39mset_exact_solution(net_type, phy_params)\n\u001b[1;32m---> <a href='vscode-notebook-cell:/c%3A/Users/u0150568/OneDrive%20-%20KU%20Leuven/Code/public%20github/pinn-cm/inverse/elasticity_identification.ipynb#W1sZmlsZQ%3D%3D?line=39'>40</a>\u001b[0m model, net_wrong_elasticity, pde_net, energy_net, mat_net \u001b[39m=\u001b[39m bvp\u001b[39m.\u001b[39;49mmodel_setup(geom, config, phy_params_trainable)\n",
      "File \u001b[1;32mc:\\Users\\u0150568\\OneDrive - KU Leuven\\Code\\public github\\pinn-cm\\inverse\\BVP_function.py:402\u001b[0m, in \u001b[0;36mmodel_setup\u001b[1;34m(geom, config, phy_params)\u001b[0m\n\u001b[0;32m    399\u001b[0m net \u001b[39m=\u001b[39m dde\u001b[39m.\u001b[39mnn\u001b[39m.\u001b[39mFNN([\u001b[39m2\u001b[39m] \u001b[39m+\u001b[39m [size_layers]\u001b[39m*\u001b[39mn_layers \u001b[39m+\u001b[39m [size_output], activation, \u001b[39m'\u001b[39m\u001b[39mGlorot uniform\u001b[39m\u001b[39m'\u001b[39m)\n\u001b[0;32m    400\u001b[0m net, total_loss, bc, pde_net, energy_net, mat_net \u001b[39m=\u001b[39m net_setup(net, net_type, bc_type, loss_type,geom,phy_params)\n\u001b[1;32m--> 402\u001b[0m data \u001b[39m=\u001b[39m dde\u001b[39m.\u001b[39;49mdata\u001b[39m.\u001b[39;49mPDE(\n\u001b[0;32m    403\u001b[0m     geom,\n\u001b[0;32m    404\u001b[0m     total_loss,\n\u001b[0;32m    405\u001b[0m     bc,\n\u001b[0;32m    406\u001b[0m     num_domain\u001b[39m=\u001b[39;49mnum_domain,\n\u001b[0;32m    407\u001b[0m     num_boundary\u001b[39m=\u001b[39;49mnum_boundary,\n\u001b[0;32m    408\u001b[0m     num_test\u001b[39m=\u001b[39;49m num_domain,\n\u001b[0;32m    409\u001b[0m     train_distribution \u001b[39m=\u001b[39;49m train_distribution,\n\u001b[0;32m    410\u001b[0m     solution\u001b[39m=\u001b[39;49mnet_exact,\n\u001b[0;32m    411\u001b[0m )\n\u001b[0;32m    412\u001b[0m model \u001b[39m=\u001b[39m dde\u001b[39m.\u001b[39mModel(data, net)\n\u001b[0;32m    413\u001b[0m \u001b[39mreturn\u001b[39;00m model, net_exact, pde_net, energy_net, mat_net\n",
      "File \u001b[1;32mc:\\Program Files\\Python38\\lib\\site-packages\\deepxde\\data\\pde.py:114\u001b[0m, in \u001b[0;36mPDE.__init__\u001b[1;34m(self, geometry, pde, bcs, num_domain, num_boundary, train_distribution, anchors, exclusions, solution, num_test, auxiliary_var_function)\u001b[0m\n\u001b[0;32m    111\u001b[0m \u001b[39mself\u001b[39m\u001b[39m.\u001b[39mtest_x, \u001b[39mself\u001b[39m\u001b[39m.\u001b[39mtest_y \u001b[39m=\u001b[39m \u001b[39mNone\u001b[39;00m, \u001b[39mNone\u001b[39;00m\n\u001b[0;32m    112\u001b[0m \u001b[39mself\u001b[39m\u001b[39m.\u001b[39mtrain_aux_vars, \u001b[39mself\u001b[39m\u001b[39m.\u001b[39mtest_aux_vars \u001b[39m=\u001b[39m \u001b[39mNone\u001b[39;00m, \u001b[39mNone\u001b[39;00m\n\u001b[1;32m--> 114\u001b[0m \u001b[39mself\u001b[39;49m\u001b[39m.\u001b[39;49mtrain_next_batch()\n\u001b[0;32m    115\u001b[0m \u001b[39mself\u001b[39m\u001b[39m.\u001b[39mtest()\n",
      "File \u001b[1;32mc:\\Program Files\\Python38\\lib\\site-packages\\deepxde\\utils\\internal.py:37\u001b[0m, in \u001b[0;36mrun_if_all_none.<locals>.decorator.<locals>.wrapper\u001b[1;34m(self, *args, **kwargs)\u001b[0m\n\u001b[0;32m     35\u001b[0m x \u001b[39m=\u001b[39m [\u001b[39mgetattr\u001b[39m(\u001b[39mself\u001b[39m, a) \u001b[39mfor\u001b[39;00m a \u001b[39min\u001b[39;00m attr]\n\u001b[0;32m     36\u001b[0m \u001b[39mif\u001b[39;00m \u001b[39mall\u001b[39m(i \u001b[39mis\u001b[39;00m \u001b[39mNone\u001b[39;00m \u001b[39mfor\u001b[39;00m i \u001b[39min\u001b[39;00m x):\n\u001b[1;32m---> 37\u001b[0m     \u001b[39mreturn\u001b[39;00m func(\u001b[39mself\u001b[39;49m, \u001b[39m*\u001b[39;49margs, \u001b[39m*\u001b[39;49m\u001b[39m*\u001b[39;49mkwargs)\n\u001b[0;32m     38\u001b[0m \u001b[39mreturn\u001b[39;00m x \u001b[39mif\u001b[39;00m \u001b[39mlen\u001b[39m(x) \u001b[39m>\u001b[39m \u001b[39m1\u001b[39m \u001b[39melse\u001b[39;00m x[\u001b[39m0\u001b[39m]\n",
      "File \u001b[1;32mc:\\Program Files\\Python38\\lib\\site-packages\\deepxde\\data\\pde.py:166\u001b[0m, in \u001b[0;36mPDE.train_next_batch\u001b[1;34m(self, batch_size)\u001b[0m\n\u001b[0;32m    164\u001b[0m \u001b[39mif\u001b[39;00m \u001b[39mself\u001b[39m\u001b[39m.\u001b[39mpde \u001b[39mis\u001b[39;00m \u001b[39mnot\u001b[39;00m \u001b[39mNone\u001b[39;00m:\n\u001b[0;32m    165\u001b[0m     \u001b[39mself\u001b[39m\u001b[39m.\u001b[39mtrain_x \u001b[39m=\u001b[39m np\u001b[39m.\u001b[39mvstack((\u001b[39mself\u001b[39m\u001b[39m.\u001b[39mtrain_x, \u001b[39mself\u001b[39m\u001b[39m.\u001b[39mtrain_x_all))\n\u001b[1;32m--> 166\u001b[0m \u001b[39mself\u001b[39m\u001b[39m.\u001b[39mtrain_y \u001b[39m=\u001b[39m \u001b[39mself\u001b[39;49m\u001b[39m.\u001b[39;49msoln(\u001b[39mself\u001b[39;49m\u001b[39m.\u001b[39;49mtrain_x) \u001b[39mif\u001b[39;00m \u001b[39mself\u001b[39m\u001b[39m.\u001b[39msoln \u001b[39melse\u001b[39;00m \u001b[39mNone\u001b[39;00m\n\u001b[0;32m    167\u001b[0m \u001b[39mif\u001b[39;00m \u001b[39mself\u001b[39m\u001b[39m.\u001b[39mauxiliary_var_fn \u001b[39mis\u001b[39;00m \u001b[39mnot\u001b[39;00m \u001b[39mNone\u001b[39;00m:\n\u001b[0;32m    168\u001b[0m     \u001b[39mself\u001b[39m\u001b[39m.\u001b[39mtrain_aux_vars \u001b[39m=\u001b[39m \u001b[39mself\u001b[39m\u001b[39m.\u001b[39mauxiliary_var_fn(\u001b[39mself\u001b[39m\u001b[39m.\u001b[39mtrain_x)\u001b[39m.\u001b[39mastype(\n\u001b[0;32m    169\u001b[0m         config\u001b[39m.\u001b[39mreal(np)\n\u001b[0;32m    170\u001b[0m     )\n",
      "File \u001b[1;32mc:\\Users\\u0150568\\OneDrive - KU Leuven\\Code\\public github\\pinn-cm\\inverse\\BVP_function.py:379\u001b[0m, in \u001b[0;36mset_exact_solution.<locals>.USnet_exact\u001b[1;34m(x, lib)\u001b[0m\n\u001b[0;32m    377\u001b[0m Eyy \u001b[39m=\u001b[39m sin(pi\u001b[39m*\u001b[39mx[:,\u001b[39m0\u001b[39m])\u001b[39m*\u001b[39mQ\u001b[39m*\u001b[39mx[:,\u001b[39m1\u001b[39m]\u001b[39m*\u001b[39m\u001b[39m*\u001b[39m\u001b[39m3\u001b[39m\n\u001b[0;32m    378\u001b[0m Exy \u001b[39m=\u001b[39m \u001b[39m0.5\u001b[39m\u001b[39m*\u001b[39m(pi\u001b[39m*\u001b[39mcos(\u001b[39m2\u001b[39m\u001b[39m*\u001b[39mpi\u001b[39m*\u001b[39mx[:,\u001b[39m0\u001b[39m])\u001b[39m*\u001b[39mcos(pi\u001b[39m*\u001b[39mx[:,\u001b[39m1\u001b[39m]) \u001b[39m+\u001b[39m pi\u001b[39m*\u001b[39mcos(pi\u001b[39m*\u001b[39mx[:,\u001b[39m0\u001b[39m])\u001b[39m*\u001b[39mQ\u001b[39m*\u001b[39mx[:,\u001b[39m1\u001b[39m]\u001b[39m*\u001b[39m\u001b[39m*\u001b[39m\u001b[39m4\u001b[39m\u001b[39m/\u001b[39m\u001b[39m4\u001b[39m)\n\u001b[1;32m--> 379\u001b[0m S \u001b[39m=\u001b[39m S_nn((Exx,Eyy,Exy),params)\n\u001b[0;32m    380\u001b[0m Sxx, Syy, Sxy \u001b[39m=\u001b[39m S[\u001b[39m0\u001b[39m], S[\u001b[39m1\u001b[39m], S[\u001b[39m2\u001b[39m]\n\u001b[0;32m    381\u001b[0m \u001b[39mreturn\u001b[39;00m hstack((Ux\u001b[39m.\u001b[39mreshape(\u001b[39m-\u001b[39m\u001b[39m1\u001b[39m,\u001b[39m1\u001b[39m),Uy\u001b[39m.\u001b[39mreshape(\u001b[39m-\u001b[39m\u001b[39m1\u001b[39m,\u001b[39m1\u001b[39m),Sxx\u001b[39m.\u001b[39mreshape(\u001b[39m-\u001b[39m\u001b[39m1\u001b[39m,\u001b[39m1\u001b[39m),Syy\u001b[39m.\u001b[39mreshape(\u001b[39m-\u001b[39m\u001b[39m1\u001b[39m,\u001b[39m1\u001b[39m),Sxy\u001b[39m.\u001b[39mreshape(\u001b[39m-\u001b[39m\u001b[39m1\u001b[39m,\u001b[39m1\u001b[39m)))\n",
      "File \u001b[1;32mc:\\Users\\u0150568\\OneDrive - KU Leuven\\Code\\public github\\pinn-cm\\inverse\\BVP_function.py:147\u001b[0m, in \u001b[0;36mS_nn\u001b[1;34m(E, params)\u001b[0m\n\u001b[0;32m    145\u001b[0m mu \u001b[39m=\u001b[39m params[\u001b[39m\"\u001b[39m\u001b[39mmu\u001b[39m\u001b[39m\"\u001b[39m]\n\u001b[0;32m    146\u001b[0m \u001b[39m#calculate the stress given the strain\u001b[39;00m\n\u001b[1;32m--> 147\u001b[0m Sxx \u001b[39m=\u001b[39m (\u001b[39m2\u001b[39;49m \u001b[39m*\u001b[39;49m mu \u001b[39m+\u001b[39;49m lmbd) \u001b[39m*\u001b[39;49m E[\u001b[39m0\u001b[39;49m] \u001b[39m+\u001b[39m lmbd \u001b[39m*\u001b[39m E[\u001b[39m1\u001b[39m]\n\u001b[0;32m    148\u001b[0m Syy \u001b[39m=\u001b[39m (\u001b[39m2\u001b[39m \u001b[39m*\u001b[39m mu \u001b[39m+\u001b[39m lmbd) \u001b[39m*\u001b[39m E[\u001b[39m1\u001b[39m] \u001b[39m+\u001b[39m lmbd \u001b[39m*\u001b[39m E[\u001b[39m0\u001b[39m] \n\u001b[0;32m    149\u001b[0m Sxy \u001b[39m=\u001b[39m \u001b[39m2\u001b[39m \u001b[39m*\u001b[39m mu \u001b[39m*\u001b[39m E[\u001b[39m2\u001b[39m]\n",
      "File \u001b[1;32m~\\AppData\\Roaming\\Python\\Python38\\site-packages\\torch\\_tensor.py:678\u001b[0m, in \u001b[0;36mTensor.__array__\u001b[1;34m(self, dtype)\u001b[0m\n\u001b[0;32m    676\u001b[0m     \u001b[39mreturn\u001b[39;00m handle_torch_function(Tensor\u001b[39m.\u001b[39m__array__, (\u001b[39mself\u001b[39m,), \u001b[39mself\u001b[39m, dtype\u001b[39m=\u001b[39mdtype)\n\u001b[0;32m    677\u001b[0m \u001b[39mif\u001b[39;00m dtype \u001b[39mis\u001b[39;00m \u001b[39mNone\u001b[39;00m:\n\u001b[1;32m--> 678\u001b[0m     \u001b[39mreturn\u001b[39;00m \u001b[39mself\u001b[39;49m\u001b[39m.\u001b[39;49mnumpy()\n\u001b[0;32m    679\u001b[0m \u001b[39melse\u001b[39;00m:\n\u001b[0;32m    680\u001b[0m     \u001b[39mreturn\u001b[39;00m \u001b[39mself\u001b[39m\u001b[39m.\u001b[39mnumpy()\u001b[39m.\u001b[39mastype(dtype, copy\u001b[39m=\u001b[39m\u001b[39mFalse\u001b[39;00m)\n",
      "\u001b[1;31mRuntimeError\u001b[0m: Can't call numpy() on Tensor that requires grad. Use tensor.detach().numpy() instead."
     ]
    }
   ],
   "source": [
    "lmbd = 1.0\n",
    "lmbd_trainable = dde.Variable(lmbd - 0.2)\n",
    "mu = 0.5\n",
    "mu_trainable = dde.Variable(mu + 0.2)\n",
    "Q = 4.0\n",
    "\n",
    "domain = np.array([[0.0, 1.0], [0.0, 1.0]])\n",
    "geom = dde.geometry.Rectangle([0, 0], [1, 1])\n",
    "\n",
    "phy_params = {'lmbd': lmbd, 'mu': mu, 'Q': Q}\n",
    "phy_params_trainable = {'lmbd': lmbd_trainable, 'mu': mu_trainable, 'Q': Q}\n",
    "\n",
    "#net parameters\n",
    "net_type = ['Unet','USnet'][1]\n",
    "n_layers = 4\n",
    "size_layers = 50\n",
    "activation = ['tanh','ReLU','Sigmoid'][0]\n",
    "\n",
    "#loss parameters\n",
    "loss_type = ['pde','energy'][0] #the energy loss appears to crash LBFGS and provide less accurate results with Adam. PDE loss is therefore used in the following\n",
    "num_domain = 50**2\n",
    "train_distribution = ['uniform','pseudo','LHS','Halton','Hammersley','Sobol'][4]\n",
    "\n",
    "#boundary conditions\n",
    "bc_type = ['soft','hard'][1]\n",
    "num_boundary = 50\n",
    "\n",
    "#optimizer\n",
    "optimizers = [\"adam\",\"L-BFGS\"]\n",
    "learning_rates = [1e-3,None]\n",
    "iterations = [3000,None]\n",
    "\n",
    "config = {'net_type':net_type,'n_layers':n_layers,'size_layers':size_layers,'activation':activation,\n",
    "        'loss_type':loss_type,'num_domain':num_domain,'train_distribution':train_distribution,\n",
    "        'bc_type':bc_type,'num_boundary':num_boundary,\n",
    "        'optimizers':optimizers,'learning_rates':learning_rates,'iterations':iterations}  \n",
    "\n",
    "net_exact = bvp.set_exact_solution(net_type, phy_params)\n",
    "\n",
    "model, net_wrong_elasticity, pde_net, energy_net, mat_net = bvp.model_setup(geom, config, phy_params_trainable)\n"
   ]
  },
  {
   "cell_type": "code",
   "execution_count": null,
   "metadata": {},
   "outputs": [],
   "source": [
    "trainable_variables = [lmbd_trainable, mu_trainable]\n",
    "variable = dde.callbacks.VariableValue(trainable_variables, period=100, filename=\"elasticity_param.dat\")\n",
    "\n",
    "model.compile(\"adam\", lr=0.001, external_trainable_variables=trainable_variables, metrics=[\"l2 relative error\"])\n",
    "losshistory, train_state = model.train(iterations=3000,display_every=200, callbacks=[variable])\n",
    "\n",
    "# # train lbfgs\n",
    "model.compile(\"L-BFGS\", external_trainable_variables=trainable_variables, metrics=[\"l2 relative error\"])\n",
    "losshistory, train_state = model.train(callbacks=[variable])\n",
    "print(f\"lambda:{lmbd_trainable} ; mu: {lmbd_trainable}\")"
   ]
  }
 ],
 "metadata": {
  "kernelspec": {
   "display_name": "Python 3",
   "language": "python",
   "name": "python3"
  },
  "language_info": {
   "codemirror_mode": {
    "name": "ipython",
    "version": 3
   },
   "file_extension": ".py",
   "mimetype": "text/x-python",
   "name": "python",
   "nbconvert_exporter": "python",
   "pygments_lexer": "ipython3",
   "version": "3.8.1"
  }
 },
 "nbformat": 4,
 "nbformat_minor": 4
}
